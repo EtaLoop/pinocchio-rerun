{
 "cells": [
  {
   "cell_type": "code",
   "execution_count": 1,
   "metadata": {},
   "outputs": [
    {
     "name": "stderr",
     "output_type": "stream",
     "text": [
      "[2024-08-21T09:26:10Z INFO  re_sdk::spawn] A process is already listening at this address. Assuming it's a Rerun Viewer. addr=0.0.0.0:9876\n"
     ]
    },
    {
     "data": {
      "application/vnd.jupyter.widget-view+json": {
       "model_id": "6d7e823dfa3f4a6bb461624217bdbe5d",
       "version_major": 2,
       "version_minor": 1
      },
      "text/plain": [
       "Viewer()"
      ]
     },
     "metadata": {},
     "output_type": "display_data"
    },
    {
     "name": "stdout",
     "output_type": "stream",
     "text": [
      "Done loading model\n"
     ]
    }
   ],
   "source": [
    "import example_robot_data as robex\n",
    "import pinocchio as pin\n",
    "import numpy as np\n",
    "import rerun.blueprint as rrb\n",
    "import rerun as rr\n",
    "\n",
    "from rerun_visualizer_draft import RerunVisualizer\n",
    "\n",
    "solo = robex.load(\"solo8\")\n",
    "model = solo.model\n",
    "visual_model = solo.visual_model\n",
    "collision_model = solo.collision_model\n",
    "\n",
    "rviz = RerunVisualizer(model, collision_model, visual_model, notebook_embed=True)\n",
    "rviz.loadViewerModel()\n",
    "\n",
    "print(\"Done loading model\")"
   ]
  },
  {
   "cell_type": "code",
   "execution_count": 7,
   "metadata": {},
   "outputs": [],
   "source": [
    "rviz.display(solo.q0)\n",
    "q1 = solo.q0.copy()\n",
    "q1[7] = 0.5\n",
    "rviz.display(q1)\n",
    "q2 = solo.q0.copy()\n",
    "q2[7] = -0.5\n",
    "rviz.display(q2)"
   ]
  }
 ],
 "metadata": {
  "kernelspec": {
   "display_name": "Release",
   "language": "python",
   "name": "python3"
  },
  "language_info": {
   "codemirror_mode": {
    "name": "ipython",
    "version": 3
   },
   "file_extension": ".py",
   "mimetype": "text/x-python",
   "name": "python",
   "nbconvert_exporter": "python",
   "pygments_lexer": "ipython3",
   "version": "3.12.5"
  }
 },
 "nbformat": 4,
 "nbformat_minor": 2
}
