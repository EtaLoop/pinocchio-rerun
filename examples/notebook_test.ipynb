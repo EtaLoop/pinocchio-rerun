{
 "cells": [
  {
   "cell_type": "code",
   "execution_count": 5,
   "metadata": {},
   "outputs": [
    {
     "name": "stderr",
     "output_type": "stream",
     "text": [
      "[2024-08-21T22:03:01Z INFO  re_sdk::spawn] A process is already listening at this address. Assuming it's a Rerun Viewer. addr=0.0.0.0:9876\n"
     ]
    },
    {
     "data": {
      "application/vnd.jupyter.widget-view+json": {
       "model_id": "9b0376bc3fbf45438bf649b7beb978a4",
       "version_major": 2,
       "version_minor": 1
      },
      "text/plain": [
       "Viewer()"
      ]
     },
     "metadata": {},
     "output_type": "display_data"
    },
    {
     "name": "stderr",
     "output_type": "stream",
     "text": [
      "/local/usr/ldematteis/Repositories/Software_Perso/pinocchio-rerun/examples/rerun_visualizer_draft.py:279: UserWarning: Unknown or unsupported HPP-FCL object type OT_GEOM\n",
      "  warn(f\"Unknown or unsupported HPP-FCL object type {objType}\")\n"
     ]
    },
    {
     "name": "stdout",
     "output_type": "stream",
     "text": [
      "Done loading model\n"
     ]
    }
   ],
   "source": [
    "import example_robot_data as robex\n",
    "import pinocchio as pin\n",
    "import numpy as np\n",
    "import rerun.blueprint as rrb\n",
    "import rerun as rr\n",
    "\n",
    "from rerun_visualizer_draft import RerunVisualizer\n",
    "\n",
    "solo = robex.load(\"solo12\")\n",
    "model = solo.model\n",
    "visual_model = solo.visual_model\n",
    "collision_model = solo.collision_model\n",
    "\n",
    "rviz = RerunVisualizer(model, collision_model, visual_model, notebook_embed=True)\n",
    "rviz.loadViewerModel()\n",
    "\n",
    "print(\"Done loading model\")\n",
    "\n",
    "# rviz.addEllipsoid(\"obstacle\", radii=np.array([0.1, 0.05, 0.02]), color=[255, 255, 0, 128])\n",
    "# rviz.addBox(\"obstacle\", size=[0.1, 0.05, 0.02], color=[255, 255, 0, 128])\n",
    "# rviz.set_pose(\"obstacle\", pose=[0.0, 0.0, 0.0, 0.0, 0.0, 0.0, 1.0])"
   ]
  },
  {
   "cell_type": "code",
   "execution_count": 6,
   "metadata": {},
   "outputs": [
    {
     "name": "stdout",
     "output_type": "stream",
     "text": [
      "[[[0.01], [0.01], [0.01]]] (1, 3, 1)\n",
      "[[[0.01], [0.01], [0.01]]] (1, 3, 1)\n",
      "[[[0.01], [0.01], [0.01]]] (1, 3, 1)\n",
      "[[[0.01], [0.01], [0.01]]] (1, 3, 1)\n",
      "[[[0.01], [0.01], [0.01]]] (1, 3, 1)\n",
      "[[[0.01], [0.01], [0.01]]] (1, 3, 1)\n",
      "[[[0.01], [0.01], [0.01]]] (1, 3, 1)\n",
      "[[[0.01], [0.01], [0.01]]] (1, 3, 1)\n",
      "[[[0.01], [0.01], [0.01]]] (1, 3, 1)\n",
      "[[[0.01], [0.01], [0.01]]] (1, 3, 1)\n",
      "[[[0.01], [0.01], [0.01]]] (1, 3, 1)\n",
      "[[[0.01], [0.01], [0.01]]] (1, 3, 1)\n",
      "[[[0.01], [0.01], [0.01]]] (1, 3, 1)\n",
      "[[[0.01], [0.01], [0.01]]] (1, 3, 1)\n",
      "[[[0.01], [0.01], [0.01]]] (1, 3, 1)\n",
      "[[[0.01], [0.01], [0.01]]] (1, 3, 1)\n",
      "[[[0.01], [0.01], [0.01]]] (1, 3, 1)\n",
      "[[[0.01], [0.01], [0.01]]] (1, 3, 1)\n",
      "[[[0.01], [0.01], [0.01]]] (1, 3, 1)\n",
      "[[[0.01], [0.01], [0.01]]] (1, 3, 1)\n",
      "[[[0.01], [0.01], [0.01]]] (1, 3, 1)\n",
      "[[[0.01], [0.01], [0.01]]] (1, 3, 1)\n",
      "[[[0.01], [0.01], [0.01]]] (1, 3, 1)\n",
      "[[[0.01], [0.01], [0.01]]] (1, 3, 1)\n",
      "[[[0.01], [0.01], [0.01]]] (1, 3, 1)\n",
      "[[[0.01], [0.01], [0.01]]] (1, 3, 1)\n",
      "[[[0.01], [0.01], [0.01]]] (1, 3, 1)\n",
      "[[[0.01], [0.01], [0.01]]] (1, 3, 1)\n",
      "[[[0.01], [0.01], [0.01]]] (1, 3, 1)\n",
      "[[[0.01], [0.01], [0.01]]] (1, 3, 1)\n",
      "[[[0.01], [0.01], [0.01]]] (1, 3, 1)\n",
      "[[[0.01], [0.01], [0.01]]] (1, 3, 1)\n",
      "[[[0.01], [0.01], [0.01]]] (1, 3, 1)\n"
     ]
    }
   ],
   "source": [
    "rviz.activateInertias()\n",
    "rviz.display(solo.q0)"
   ]
  },
  {
   "cell_type": "code",
   "execution_count": 5,
   "metadata": {},
   "outputs": [],
   "source": [
    "q0 = solo.q0.copy()\n",
    "q0[2] = 0.5\n",
    "rviz.display(q0)"
   ]
  }
 ],
 "metadata": {
  "kernelspec": {
   "display_name": "Release",
   "language": "python",
   "name": "python3"
  },
  "language_info": {
   "codemirror_mode": {
    "name": "ipython",
    "version": 3
   },
   "file_extension": ".py",
   "mimetype": "text/x-python",
   "name": "python",
   "nbconvert_exporter": "python",
   "pygments_lexer": "ipython3",
   "version": "3.12.5"
  }
 },
 "nbformat": 4,
 "nbformat_minor": 2
}
