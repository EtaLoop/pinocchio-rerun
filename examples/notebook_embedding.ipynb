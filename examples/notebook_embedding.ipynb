{
 "cells": [
  {
   "cell_type": "code",
   "execution_count": 1,
   "metadata": {},
   "outputs": [
    {
     "name": "stderr",
     "output_type": "stream",
     "text": [
      "[2024-09-02T21:18:29Z INFO  re_sdk_comms::server] Hosting a SDK server over TCP at 0.0.0.0:9876. Connect with the Rerun logging SDK.\n",
      "Error: winit EventLoopError: os error at /home/conda/feedstock_root/build_artifacts/rerun-sdk_1724135644780/_build_env/.cargo/registry/src/index.crates.io-6f17d22bba15001f/winit-0.29.15/src/platform_impl/linux/mod.rs:786: neither WAYLAND_DISPLAY nor WAYLAND_SOCKET nor DISPLAY is set.\n",
      "[2024-09-02T21:18:30Z WARN  re_sdk_comms::buffered_client] Failed to send message after 3 attempts: Failed to connect to Rerun server at 127.0.0.1:9876: Connection refused (os error 111)\n",
      "[2024-09-02T21:18:33Z WARN  re_sdk_comms::buffered_client] Dropping messages because tcp client has timed out.\n",
      "[2024-09-02T21:18:33Z WARN  re_sdk_comms::buffered_client] Dropping messages because tcp client has timed out.\n",
      "[2024-09-02T21:18:33Z WARN  re_sdk_comms::tcp_client] Tried to flush while TCP stream was still Pending. Data was possibly dropped.\n"
     ]
    },
    {
     "data": {
      "application/vnd.jupyter.widget-view+json": {
       "model_id": "9bcd9962ef1f4f0e9a69db9266e4839c",
       "version_major": 2,
       "version_minor": 1
      },
      "text/plain": [
       "Viewer()"
      ]
     },
     "metadata": {},
     "output_type": "display_data"
    },
    {
     "name": "stdout",
     "output_type": "stream",
     "text": [
      "Done loading model\n"
     ]
    }
   ],
   "source": [
    "import example_robot_data as robex\n",
    "import pinocchio as pin\n",
    "import numpy as np\n",
    "import rerun.blueprint as rrb\n",
    "import rerun as rr\n",
    "\n",
    "import sys\n",
    "sys.path.append(\"../src\")\n",
    "from pinocchio_rerun import RerunVisualizer\n",
    "\n",
    "solo = robex.load(\"bolt\")\n",
    "model = solo.model\n",
    "visual_model = solo.visual_model\n",
    "collision_model = solo.collision_model\n",
    "\n",
    "rviz = RerunVisualizer(model, collision_model, visual_model, notebook_embed=True)\n",
    "rviz.loadViewerModel()\n",
    "\n",
    "print(\"Done loading model\")\n",
    "\n",
    "# rviz.addEllipsoid(\"obstacle\", radii=np.array([0.1, 0.05, 0.02]), color=[255, 255, 0, 128])\n",
    "# rviz.addBox(\"obstacle\", size=[0.1, 0.05, 0.02], color=[255, 255, 0, 128])\n",
    "# rviz.set_pose(\"obstacle\", pose=[0.0, 0.0, 0.0, 0.0, 0.0, 0.0, 1.0])\n",
    "\n",
    "rviz.activateInertias()\n",
    "rviz.display(pin.neutral(solo.model))\n",
    "\n",
    "rviz.addArrow(\"arrow\", [0, 0, 0], [0, 0, 1], radius=0.01, length=0.1)\n",
    "pose = pin.SE3.Random()\n",
    "rviz.drawFrame(\"frame\", pose, scaling=2)"
   ]
  },
  {
   "cell_type": "code",
   "execution_count": 4,
   "metadata": {},
   "outputs": [],
   "source": [
    "rviz.addFrame(\"frame\", pose, scaling=10)"
   ]
  },
  {
   "cell_type": "code",
   "execution_count": 3,
   "metadata": {},
   "outputs": [],
   "source": [
    "data = solo.model.createData()\n",
    "dt = 1e-3\n",
    "q = solo.q0\n",
    "v = np.random.random(model.nv)*5\n",
    "v[:6] = np.zeros(6)\n",
    "for t in range(500):\n",
    "    # a = pin.aba(solo.model, data, q, v, np.zeros(model.nv))\n",
    "    # v += a * dt\n",
    "    q = pin.integrate(model, q, v * dt)\n",
    "    rviz.display(q)"
   ]
  },
  {
   "cell_type": "code",
   "execution_count": 4,
   "metadata": {},
   "outputs": [],
   "source": [
    "q0 = solo.q0.copy()\n",
    "q0[2] = 0.5\n",
    "rviz.display(q0)"
   ]
  }
 ],
 "metadata": {
  "kernelspec": {
   "display_name": "Release",
   "language": "python",
   "name": "python3"
  },
  "language_info": {
   "codemirror_mode": {
    "name": "ipython",
    "version": 3
   },
   "file_extension": ".py",
   "mimetype": "text/x-python",
   "name": "python",
   "nbconvert_exporter": "python",
   "pygments_lexer": "ipython3",
   "version": "3.12.5"
  }
 },
 "nbformat": 4,
 "nbformat_minor": 2
}
