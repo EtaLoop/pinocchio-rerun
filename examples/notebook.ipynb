{
 "cells": [
  {
   "cell_type": "code",
   "execution_count": null,
   "metadata": {},
   "outputs": [],
   "source": [
    "import rerun as rr\n",
    "from numpy.random import default_rng\n",
    "\n",
    "rr.init(\"rerun_example_notebook\")\n",
    "\n",
    "rng = default_rng(12345)\n",
    "\n",
    "positions = rng.uniform(-5, 5, size=[10, 3])\n",
    "colors = rng.uniform(0, 255, size=[10, 3])\n",
    "radii = rng.uniform(0, 1, size=[10])\n",
    "\n",
    "rr.log(\"random\", rr.Points3D(positions, colors=colors, radii=radii))\n",
    "\n",
    "rr.notebook_show()"
   ]
  },
  {
   "cell_type": "code",
   "execution_count": 11,
   "metadata": {},
   "outputs": [],
   "source": [
    "import rerun.blueprint as rrb\n",
    "nq = 10\n",
    "bp = rrb.Blueprint(\n",
    "                rrb.Horizontal(\n",
    "                    rrb.Spatial3DView(\n",
    "                        name=\"Viewer\",\n",
    "                        origin=\"/viewer\",\n",
    "                    ),\n",
    "                    rrb.Vertical(\n",
    "                        contents=[\n",
    "                            rrb.TimeSeriesView(\n",
    "                                name=f\"q{i}\",\n",
    "                                origin=f\"/configurations/q{i}\",\n",
    "                            )\n",
    "                            for i in range(nq)\n",
    "                        ],\n",
    "                    )\n",
    "                ),\n",
    "                rrb.SelectionPanel(state=\"collapsed\"),\n",
    "                rrb.TimePanel(state=\"collapsed\"),\n",
    "            )\n",
    "rr.send_blueprint(bp)"
   ]
  },
  {
   "cell_type": "code",
   "execution_count": 4,
   "metadata": {},
   "outputs": [
    {
     "ename": "",
     "evalue": "",
     "output_type": "error",
     "traceback": [
      "\u001b[1;31mThe Kernel crashed while executing code in the current cell or a previous cell. \n",
      "\u001b[1;31mPlease review the code in the cell(s) to identify a possible cause of the failure. \n",
      "\u001b[1;31mClick <a href='https://aka.ms/vscodeJupyterKernelCrash'>here</a> for more info. \n",
      "\u001b[1;31mView Jupyter <a href='command:jupyter.viewOutput'>log</a> for further details."
     ]
    }
   ],
   "source": [
    "rng = default_rng(25654)\n",
    "\n",
    "positions = rng.uniform(-5, 5, size=[10, 3])\n",
    "colors = rng.uniform(0, 255, size=[10, 3])\n",
    "radii = rng.uniform(0, 1, size=[10])\n",
    "\n",
    "rr.log(\"cube/random\", rr.Points3D(positions, colors=colors, radii=radii))"
   ]
  }
 ],
 "metadata": {
  "kernelspec": {
   "display_name": "Release",
   "language": "python",
   "name": "python3"
  },
  "language_info": {
   "codemirror_mode": {
    "name": "ipython",
    "version": 3
   },
   "file_extension": ".py",
   "mimetype": "text/x-python",
   "name": "python",
   "nbconvert_exporter": "python",
   "pygments_lexer": "ipython3",
   "version": "3.12.5"
  }
 },
 "nbformat": 4,
 "nbformat_minor": 2
}
