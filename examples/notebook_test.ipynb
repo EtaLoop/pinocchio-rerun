{
 "cells": [
  {
   "cell_type": "code",
   "execution_count": 5,
   "metadata": {},
   "outputs": [
    {
     "name": "stderr",
     "output_type": "stream",
     "text": [
      "[2024-08-21T11:19:24Z INFO  re_sdk::spawn] A process is already listening at this address. Assuming it's a Rerun Viewer. addr=0.0.0.0:9876\n"
     ]
    },
    {
     "data": {
      "application/vnd.jupyter.widget-view+json": {
       "model_id": "0b7748bd36b34edca8deccc4d1425796",
       "version_major": 2,
       "version_minor": 1
      },
      "text/plain": [
       "Viewer()"
      ]
     },
     "metadata": {},
     "output_type": "display_data"
    },
    {
     "name": "stdout",
     "output_type": "stream",
     "text": [
      "Done loading model\n"
     ]
    }
   ],
   "source": [
    "import example_robot_data as robex\n",
    "import pinocchio as pin\n",
    "import numpy as np\n",
    "import rerun.blueprint as rrb\n",
    "import rerun as rr\n",
    "\n",
    "from rerun_visualizer_draft import RerunVisualizer\n",
    "\n",
    "solo = robex.load(\"solo8\")\n",
    "model = solo.model\n",
    "visual_model = solo.visual_model\n",
    "collision_model = solo.collision_model\n",
    "\n",
    "rviz = RerunVisualizer(model, collision_model, visual_model, notebook_embed=True)\n",
    "rviz.loadViewerModel()\n",
    "\n",
    "print(\"Done loading model\")\n",
    "\n",
    "rviz.addBox(\"obstacle\", size=[0.1, 0.1, 0.1], color=[1.0, 0, 0])\n",
    "rviz.set_pos(\"obstacle\", pose=[0.5, 0.5, 0.5, 0.0, 0.0, 0.0, 1.0])"
   ]
  },
  {
   "cell_type": "code",
   "execution_count": 2,
   "metadata": {},
   "outputs": [
    {
     "name": "stdout",
     "output_type": "stream",
     "text": [
      "solo\n"
     ]
    }
   ],
   "source": [
    "print(model.name)"
   ]
  }
 ],
 "metadata": {
  "kernelspec": {
   "display_name": "Release",
   "language": "python",
   "name": "python3"
  },
  "language_info": {
   "codemirror_mode": {
    "name": "ipython",
    "version": 3
   },
   "file_extension": ".py",
   "mimetype": "text/x-python",
   "name": "python",
   "nbconvert_exporter": "python",
   "pygments_lexer": "ipython3",
   "version": "3.12.5"
  }
 },
 "nbformat": 4,
 "nbformat_minor": 2
}
